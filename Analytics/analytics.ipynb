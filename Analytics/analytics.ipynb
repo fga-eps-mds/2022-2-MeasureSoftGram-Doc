{
 "cells": [
  {
   "cell_type": "markdown",
   "metadata": {},
   "source": [
    "# Analytics - Product Quality"
   ]
  },
  {
   "cell_type": "markdown",
   "metadata": {},
   "source": [
    "#### Date: 2022/02\n",
    "\n",
    "#### SUMMARY:\n",
    "\n",
    "- This notebook represents the project quality analysis of the date exposed right above. "
   ]
  },
  {
   "cell_type": "markdown",
   "metadata": {},
   "source": [
    "### TEAM: MeasureSoftGram\n",
    "\n",
    "##### Semester: 2022/02\n",
    "##### Professor: Hilmer Neri\n",
    "\n",
    "##### Members:\n",
    "\n",
    "- Flávio Vieira\n",
    "- Francisco Emanoel\n",
    "- Ian Filipe\n",
    "- Ítalo Alves\n",
    "- Ítalo Fernandes\n",
    "- Ítalo Vinícius\n",
    "- João Pedro Moura\n",
    "- João Victor Valadão\n",
    "- Lucas Melo\n",
    "- Nilvan Peres\n",
    "- Rafael Cleydson"
   ]
  },
  {
   "cell_type": "markdown",
   "metadata": {},
   "source": [
    "### LIBRARIES"
   ]
  },
  {
   "cell_type": "code",
   "execution_count": 275,
   "metadata": {},
   "outputs": [],
   "source": [
    "# Deal with data\n",
    "import pandas as pd\n",
    "import json\n",
    "from glob import glob\n",
    "import os\n",
    "import re\n",
    "\n",
    "# Deal with visualization\n",
    "import matplotlib.pyplot as plt\n",
    "\n",
    "# Deal with time\n",
    "import datetime"
   ]
  },
  {
   "cell_type": "markdown",
   "metadata": {},
   "source": [
    "### GRAPH SETTINGS"
   ]
  },
  {
   "cell_type": "code",
   "execution_count": 276,
   "metadata": {
    "collapsed": false,
    "pycharm": {
     "name": "#%%\n"
    }
   },
   "outputs": [
    {
     "data": {
      "text/plain": [
       "<Figure size 1440x720 with 0 Axes>"
      ]
     },
     "metadata": {},
     "output_type": "display_data"
    }
   ],
   "source": [
    "fig = plt.figure(figsize=(20, 10))"
   ]
  },
  {
   "cell_type": "markdown",
   "metadata": {},
   "source": [
    "### DATAFRAME SETTINGS"
   ]
  },
  {
   "cell_type": "code",
   "execution_count": 277,
   "metadata": {},
   "outputs": [],
   "source": [
    "pd.set_option(\"display.max_rows\", None, \"display.max_columns\", None)"
   ]
  },
  {
   "cell_type": "markdown",
   "metadata": {
    "collapsed": false
   },
   "source": [
    "#### Replace your semester, project name, repository name, and the programming language extension"
   ]
  },
  {
   "cell_type": "code",
   "execution_count": 278,
   "metadata": {
    "collapsed": false,
    "pycharm": {
     "name": "#%%\n"
    }
   },
   "outputs": [],
   "source": [
    "language = [['fga-eps-mds-2022-2-MeasureSoftGram-CLI', 'py'],\n",
    "            ['fga-eps-mds-2022-2-MeasureSoftGram-Front', 'js']]\n",
    "\n",
    "repos_language = {}\n",
    "\n",
    "for item in language:\n",
    "    repos_language[f\"{item[0]}\"] = item[1]"
   ]
  },
  {
   "cell_type": "markdown",
   "metadata": {},
   "source": [
    "### SonarCloud"
   ]
  },
  {
   "cell_type": "markdown",
   "metadata": {},
   "source": [
    "##### Path to the folder with all your jsons"
   ]
  },
  {
   "cell_type": "code",
   "execution_count": 279,
   "metadata": {},
   "outputs": [],
   "source": [
    "jsons = glob('../analytics-raw-data/*.json') # add your path here"
   ]
  },
  {
   "cell_type": "code",
   "execution_count": 280,
   "metadata": {},
   "outputs": [],
   "source": [
    "def read_json(json_path):\n",
    "    \n",
    "    with open(json_path) as json_file:\n",
    "        json_obj = json.load(json_file)\n",
    "        \n",
    "    return json_obj\n",
    "\n",
    "def create_base_component_df(json_list):\n",
    "    \n",
    "    df = pd.DataFrame()\n",
    "\n",
    "    for i in json_list:\n",
    "\n",
    "        base_component = read_json(i)\n",
    "\n",
    "        base_component_data = base_component['baseComponent']['measures']\n",
    "\n",
    "        base_component_df = pd.DataFrame(base_component_data)\n",
    "\n",
    "        base_component_df['filename'] = os.path.basename(i)\n",
    "\n",
    "        df = df.append(base_component_df, ignore_index=True)\n",
    "        \n",
    "    # Replace the UnB semester with yours.\n",
    "    aux_df = df['filename'].str.split(r\"fga-eps-mds-2022.2-(.*?)-(.*?)-(.*?)-(.*?)-([A-Za-z]+.*?.).json\", expand=True)\n",
    "\n",
    "    df['repository'] = aux_df[2]\n",
    "\n",
    "    df['version'] = aux_df[5]\n",
    "\n",
    "    df = df.sort_values(by=['repository', 'version'])\n",
    "        \n",
    "    return df"
   ]
  },
  {
   "cell_type": "markdown",
   "metadata": {},
   "source": [
    "#### Create base component dataframe"
   ]
  },
  {
   "cell_type": "code",
   "execution_count": 281,
   "metadata": {},
   "outputs": [],
   "source": [
    "base_component_df = create_base_component_df(jsons)"
   ]
  },
  {
   "cell_type": "code",
   "execution_count": 282,
   "metadata": {},
   "outputs": [
    {
     "data": {
      "text/plain": [
       "array(['fga-eps-mds-2022-2-MeasureSoftGram-CLI-11-26-2022-17-47-19-develop.json'],\n",
       "      dtype=object)"
      ]
     },
     "execution_count": 282,
     "metadata": {},
     "output_type": "execute_result"
    }
   ],
   "source": [
    "base_component_df['filename'].unique()"
   ]
  },
  {
   "cell_type": "code",
   "execution_count": 283,
   "metadata": {},
   "outputs": [
    {
     "data": {
      "text/html": [
       "<div>\n",
       "<style scoped>\n",
       "    .dataframe tbody tr th:only-of-type {\n",
       "        vertical-align: middle;\n",
       "    }\n",
       "\n",
       "    .dataframe tbody tr th {\n",
       "        vertical-align: top;\n",
       "    }\n",
       "\n",
       "    .dataframe thead th {\n",
       "        text-align: right;\n",
       "    }\n",
       "</style>\n",
       "<table border=\"1\" class=\"dataframe\">\n",
       "  <thead>\n",
       "    <tr style=\"text-align: right;\">\n",
       "      <th></th>\n",
       "      <th>metric</th>\n",
       "      <th>value</th>\n",
       "      <th>bestValue</th>\n",
       "      <th>filename</th>\n",
       "      <th>repository</th>\n",
       "      <th>version</th>\n",
       "    </tr>\n",
       "  </thead>\n",
       "  <tbody>\n",
       "    <tr>\n",
       "      <th>0</th>\n",
       "      <td>duplicated_lines_density</td>\n",
       "      <td>0.0</td>\n",
       "      <td>True</td>\n",
       "      <td>fga-eps-mds-2022-2-MeasureSoftGram-CLI-11-26-2...</td>\n",
       "      <td>CLI</td>\n",
       "      <td>develop</td>\n",
       "    </tr>\n",
       "    <tr>\n",
       "      <th>1</th>\n",
       "      <td>functions</td>\n",
       "      <td>83</td>\n",
       "      <td>NaN</td>\n",
       "      <td>fga-eps-mds-2022-2-MeasureSoftGram-CLI-11-26-2...</td>\n",
       "      <td>CLI</td>\n",
       "      <td>develop</td>\n",
       "    </tr>\n",
       "    <tr>\n",
       "      <th>2</th>\n",
       "      <td>test_execution_time</td>\n",
       "      <td>1646</td>\n",
       "      <td>NaN</td>\n",
       "      <td>fga-eps-mds-2022-2-MeasureSoftGram-CLI-11-26-2...</td>\n",
       "      <td>CLI</td>\n",
       "      <td>develop</td>\n",
       "    </tr>\n",
       "    <tr>\n",
       "      <th>3</th>\n",
       "      <td>test_failures</td>\n",
       "      <td>0</td>\n",
       "      <td>True</td>\n",
       "      <td>fga-eps-mds-2022-2-MeasureSoftGram-CLI-11-26-2...</td>\n",
       "      <td>CLI</td>\n",
       "      <td>develop</td>\n",
       "    </tr>\n",
       "    <tr>\n",
       "      <th>4</th>\n",
       "      <td>test_errors</td>\n",
       "      <td>0</td>\n",
       "      <td>True</td>\n",
       "      <td>fga-eps-mds-2022-2-MeasureSoftGram-CLI-11-26-2...</td>\n",
       "      <td>CLI</td>\n",
       "      <td>develop</td>\n",
       "    </tr>\n",
       "    <tr>\n",
       "      <th>5</th>\n",
       "      <td>security_rating</td>\n",
       "      <td>1.0</td>\n",
       "      <td>True</td>\n",
       "      <td>fga-eps-mds-2022-2-MeasureSoftGram-CLI-11-26-2...</td>\n",
       "      <td>CLI</td>\n",
       "      <td>develop</td>\n",
       "    </tr>\n",
       "    <tr>\n",
       "      <th>6</th>\n",
       "      <td>tests</td>\n",
       "      <td>69</td>\n",
       "      <td>NaN</td>\n",
       "      <td>fga-eps-mds-2022-2-MeasureSoftGram-CLI-11-26-2...</td>\n",
       "      <td>CLI</td>\n",
       "      <td>develop</td>\n",
       "    </tr>\n",
       "    <tr>\n",
       "      <th>7</th>\n",
       "      <td>files</td>\n",
       "      <td>41</td>\n",
       "      <td>NaN</td>\n",
       "      <td>fga-eps-mds-2022-2-MeasureSoftGram-CLI-11-26-2...</td>\n",
       "      <td>CLI</td>\n",
       "      <td>develop</td>\n",
       "    </tr>\n",
       "    <tr>\n",
       "      <th>8</th>\n",
       "      <td>complexity</td>\n",
       "      <td>234</td>\n",
       "      <td>NaN</td>\n",
       "      <td>fga-eps-mds-2022-2-MeasureSoftGram-CLI-11-26-2...</td>\n",
       "      <td>CLI</td>\n",
       "      <td>develop</td>\n",
       "    </tr>\n",
       "    <tr>\n",
       "      <th>9</th>\n",
       "      <td>ncloc</td>\n",
       "      <td>1742</td>\n",
       "      <td>NaN</td>\n",
       "      <td>fga-eps-mds-2022-2-MeasureSoftGram-CLI-11-26-2...</td>\n",
       "      <td>CLI</td>\n",
       "      <td>develop</td>\n",
       "    </tr>\n",
       "    <tr>\n",
       "      <th>10</th>\n",
       "      <td>coverage</td>\n",
       "      <td>56.5</td>\n",
       "      <td>False</td>\n",
       "      <td>fga-eps-mds-2022-2-MeasureSoftGram-CLI-11-26-2...</td>\n",
       "      <td>CLI</td>\n",
       "      <td>develop</td>\n",
       "    </tr>\n",
       "    <tr>\n",
       "      <th>11</th>\n",
       "      <td>comment_lines_density</td>\n",
       "      <td>7.2</td>\n",
       "      <td>False</td>\n",
       "      <td>fga-eps-mds-2022-2-MeasureSoftGram-CLI-11-26-2...</td>\n",
       "      <td>CLI</td>\n",
       "      <td>develop</td>\n",
       "    </tr>\n",
       "  </tbody>\n",
       "</table>\n",
       "</div>"
      ],
      "text/plain": [
       "                      metric value bestValue  \\\n",
       "0   duplicated_lines_density   0.0      True   \n",
       "1                  functions    83       NaN   \n",
       "2        test_execution_time  1646       NaN   \n",
       "3              test_failures     0      True   \n",
       "4                test_errors     0      True   \n",
       "5            security_rating   1.0      True   \n",
       "6                      tests    69       NaN   \n",
       "7                      files    41       NaN   \n",
       "8                 complexity   234       NaN   \n",
       "9                      ncloc  1742       NaN   \n",
       "10                  coverage  56.5     False   \n",
       "11     comment_lines_density   7.2     False   \n",
       "\n",
       "                                             filename repository  version  \n",
       "0   fga-eps-mds-2022-2-MeasureSoftGram-CLI-11-26-2...        CLI  develop  \n",
       "1   fga-eps-mds-2022-2-MeasureSoftGram-CLI-11-26-2...        CLI  develop  \n",
       "2   fga-eps-mds-2022-2-MeasureSoftGram-CLI-11-26-2...        CLI  develop  \n",
       "3   fga-eps-mds-2022-2-MeasureSoftGram-CLI-11-26-2...        CLI  develop  \n",
       "4   fga-eps-mds-2022-2-MeasureSoftGram-CLI-11-26-2...        CLI  develop  \n",
       "5   fga-eps-mds-2022-2-MeasureSoftGram-CLI-11-26-2...        CLI  develop  \n",
       "6   fga-eps-mds-2022-2-MeasureSoftGram-CLI-11-26-2...        CLI  develop  \n",
       "7   fga-eps-mds-2022-2-MeasureSoftGram-CLI-11-26-2...        CLI  develop  \n",
       "8   fga-eps-mds-2022-2-MeasureSoftGram-CLI-11-26-2...        CLI  develop  \n",
       "9   fga-eps-mds-2022-2-MeasureSoftGram-CLI-11-26-2...        CLI  develop  \n",
       "10  fga-eps-mds-2022-2-MeasureSoftGram-CLI-11-26-2...        CLI  develop  \n",
       "11  fga-eps-mds-2022-2-MeasureSoftGram-CLI-11-26-2...        CLI  develop  "
      ]
     },
     "execution_count": 283,
     "metadata": {},
     "output_type": "execute_result"
    }
   ],
   "source": [
    "base_component_df.head(30)"
   ]
  },
  {
   "cell_type": "markdown",
   "metadata": {},
   "source": [
    "#### Create dataframe per file"
   ]
  },
  {
   "cell_type": "code",
   "execution_count": 284,
   "metadata": {},
   "outputs": [
    {
     "data": {
      "text/plain": [
       "12"
      ]
     },
     "execution_count": 284,
     "metadata": {},
     "output_type": "execute_result"
    }
   ],
   "source": [
    "metric_list = ['files',\n",
    "               'functions',\n",
    "               'complexity',\n",
    "               'comment_lines_density',\n",
    "               'duplicated_lines_density',\n",
    "               'coverage',\n",
    "               'ncloc',\n",
    "               'tests',\n",
    "               'test_errors',\n",
    "               'test_failures',\n",
    "               'test_execution_time',\n",
    "               'security_rating']\n",
    "\n",
    "len(metric_list)"
   ]
  },
  {
   "cell_type": "code",
   "execution_count": 285,
   "metadata": {
    "collapsed": false,
    "pycharm": {
     "name": "#%%\n"
    }
   },
   "outputs": [],
   "source": [
    "def get_files_df(df):\n",
    "    \n",
    "    files = df[df['qualifier'] == 'FIL'] \n",
    "    \n",
    "    files = files.dropna(subset=['functions', 'complexity','comment_lines_density', 'duplicated_lines_density', 'coverage' ])\n",
    "    \n",
    "    return files"
   ]
  },
  {
   "cell_type": "code",
   "execution_count": 286,
   "metadata": {
    "collapsed": false,
    "pycharm": {
     "name": "#%%\n"
    }
   },
   "outputs": [],
   "source": [
    "def get_dir_df(df):\n",
    "    dirs = df[df[\"qualifier\"] == \"DIR\"]     \n",
    "\n",
    "    newdf = pd.to_numeric(dirs[\"tests\"])\n",
    "    \n",
    "    max_value_index = newdf.idxmax()            \n",
    "    \n",
    "    return dirs.loc[max_value_index]"
   ]
  },
  {
   "cell_type": "code",
   "execution_count": 287,
   "metadata": {},
   "outputs": [],
   "source": [
    "def get_uts_df(df):\n",
    "    dirs = df[df['qualifier'] == 'UTS']     \n",
    "\n",
    "    dirs = dirs.dropna(subset=['test_execution_time'])          \n",
    "    \n",
    "    return dirs"
   ]
  },
  {
   "cell_type": "code",
   "execution_count": 288,
   "metadata": {},
   "outputs": [],
   "source": [
    "def metric_per_file(json):\n",
    "    \n",
    "    file_json = []\n",
    "    \n",
    "    for component in json['components']:\n",
    "        \n",
    "        ncloc_value = 0;\n",
    "        \n",
    "        for valores in component['measures']:\n",
    "\n",
    "            if valores['metric'] == 'ncloc':\n",
    "                ncloc_value = float(valores['value'])\n",
    "                break\n",
    "    \n",
    "        if (component['qualifier'] == 'FIL') & (ncloc_value > 0) or (component['qualifier'] == 'DIR') or (component['qualifier'] == 'UTS'):                       \n",
    "            file_json.append(component)\n",
    "\n",
    "    return file_json\n",
    "\n",
    "def generate_file_dataframe_per_release(metric_list, json, language_extension):\n",
    "    \n",
    "    df_columns = metric_list\n",
    "    df = pd.DataFrame(columns = df_columns)\n",
    "    df2 = pd.DataFrame(columns = df_columns)\n",
    "    df3 = pd.DataFrame(columns = df_columns)\n",
    "    \n",
    "    \n",
    "    for file in json:\n",
    "        try:\n",
    "                if file['qualifier'] == 'FIL' and file['language'] == language_extension:\n",
    "                    for measure in file['measures']:\n",
    "                        df.at[file['path'], measure['metric']] = measure['value']\n",
    "\n",
    "                    df['qualifier'] = file['qualifier'] \n",
    "\n",
    "                elif file['qualifier'] == 'UTS':  \n",
    "                    for measure in file['measures']:\n",
    "                        df3.at[file['path'], measure['metric']] = measure['value']\n",
    "\n",
    "                    df3['qualifier'] = file['qualifier'] \n",
    "                elif file['qualifier'] == 'DIR':\n",
    "                    for measure in file['measures']:\n",
    "                        df2.at[file['path'], measure['metric']] = measure['value']\n",
    "                    df2['qualifier'] = file['qualifier'] \n",
    "        except:\n",
    "            pass\n",
    "\n",
    "    df.reset_index(inplace = True)\n",
    "    df2.reset_index(inplace = True)\n",
    "    df3.reset_index(inplace = True)\n",
    "    df = df.rename({'index': 'path'}, axis=1).drop(['files'], axis=1)\n",
    "    df2 = df2.rename({'index': 'path'}, axis=1).drop(['files'], axis=1)\n",
    "    df3 = df3.rename({'index': 'path'}, axis=1).drop(['files'], axis=1)\n",
    "\n",
    "    dfFinal = pd.concat([df,df2,df3], axis=0)\n",
    "\n",
    "    return dfFinal\n",
    "\n",
    "def create_file_df(json_list):\n",
    "    \n",
    "    df = pd.DataFrame()\n",
    "    dfDir = pd.DataFrame()\n",
    "\n",
    "    for i in json_list:\n",
    "\n",
    "        file_component = read_json(i)\n",
    "        \n",
    "        file_component_data = metric_per_file(file_component)\n",
    "                        \n",
    "        file_name = os.path.basename(i)\n",
    "\n",
    "        file_repository = re.split(r'-(\\d+-\\d+-\\d+-\\d+-\\d+-\\d+)-([A-Za-z]+.*?.).json', file_name)[0]\n",
    "        print(file_repository)\n",
    "\n",
    "        file_language = repos_language[f\"{file_repository}\"]\n",
    "\n",
    "        file_component_df = generate_file_dataframe_per_release(metric_list, file_component_data, language_extension = file_language)\n",
    "        \n",
    "        file_component_df['filename'] = os.path.basename(i)\n",
    "\n",
    "        df = df.append(file_component_df, ignore_index=True)\n",
    "        \n",
    "    # Replace the UnB semester with yours.\n",
    "    \n",
    "    aux_df = df['filename'].str.split(r\"-(\\d+-\\d+-\\d+-\\d+-\\d+-\\d+)-([A-Za-z]+.*?.).json\", expand=True)\n",
    "\n",
    "    df['repository'] = aux_df[0]\n",
    "\n",
    "    df['version'] = aux_df[2]\n",
    "\n",
    "    df = df.sort_values(by=['version'])\n",
    "    \n",
    "    return df"
   ]
  },
  {
   "cell_type": "code",
   "execution_count": 289,
   "metadata": {},
   "outputs": [
    {
     "name": "stdout",
     "output_type": "stream",
     "text": [
      "fga-eps-mds-2022-2-MeasureSoftGram-CLI\n",
      "fga-eps-mds-2022-2-MeasureSoftGram-Front\n"
     ]
    },
    {
     "data": {
      "text/plain": [
       "array(['fga-eps-mds-2022-2-MeasureSoftGram-CLI'], dtype=object)"
      ]
     },
     "execution_count": 289,
     "metadata": {},
     "output_type": "execute_result"
    }
   ],
   "source": [
    "file_component_df = create_file_df(jsons)\n",
    "file_component_df.repository.unique()"
   ]
  },
  {
   "cell_type": "markdown",
   "metadata": {
    "collapsed": false
   },
   "source": [
    "#### Removing NaN"
   ]
  },
  {
   "cell_type": "code",
   "execution_count": 290,
   "metadata": {
    "collapsed": false,
    "pycharm": {
     "name": "#%%\n"
    }
   },
   "outputs": [],
   "source": [
    "# file_component_df = file_component_df.dropna(subset=['functions', 'complexity','comment_lines_density', 'duplicated_lines_density', 'coverage' ])"
   ]
  },
  {
   "cell_type": "markdown",
   "metadata": {},
   "source": [
    "        #### Create dataframe per repository"
   ]
  },
  {
   "cell_type": "code",
   "execution_count": 291,
   "metadata": {},
   "outputs": [],
   "source": [
    "# Example. You must replace repo1, repo1,..., for your repository's names\n",
    "\n",
    "repo1_df = file_component_df[file_component_df['repository'] == 'fga-eps-mds-2022-2-MeasureSoftGram-CLI']\n",
    "repo2_df = file_component_df[file_component_df['repository'] == 'fga-eps-mds-2022-2-MeasureSoftGram-Front']"
   ]
  },
  {
   "cell_type": "code",
   "execution_count": 292,
   "metadata": {
    "collapsed": false,
    "pycharm": {
     "name": "#%%\n"
    }
   },
   "outputs": [],
   "source": [
    "def _ncloc(df):\n",
    "    ncloc = 0\n",
    "    for each in df['ncloc']:\n",
    "        n = 0\n",
    "        # try to cast the current ncloc value to int, if the value is NaN/Null, consider it as zero.\n",
    "        try:\n",
    "            n = int(each)\n",
    "        except ValueError:\n",
    "            n = 0\n",
    "        ncloc += n\n",
    "\n",
    "    return ncloc"
   ]
  },
  {
   "cell_type": "markdown",
   "metadata": {},
   "source": [
    "### Measure calculations according Q-Rapids quality model"
   ]
  },
  {
   "cell_type": "markdown",
   "metadata": {},
   "source": [
    "# Quality Aspect - Maintainability\n",
    "## Factor - Code Quality"
   ]
  },
  {
   "cell_type": "markdown",
   "metadata": {},
   "source": [
    "##### COMPLEXITY"
   ]
  },
  {
   "cell_type": "code",
   "execution_count": 293,
   "metadata": {},
   "outputs": [],
   "source": [
    "def m1(df):\n",
    "\n",
    "    files_df = get_files_df(df)\n",
    "    \n",
    "    density_non_complex_files = len(files_df[(files_df['complexity'].astype(float) /\n",
    "                                              files_df['functions'].astype(float)) < 10]) / len(files_df)\n",
    "    \n",
    "    return density_non_complex_files"
   ]
  },
  {
   "cell_type": "markdown",
   "metadata": {},
   "source": [
    "##### COMMENTS"
   ]
  },
  {
   "cell_type": "code",
   "execution_count": 294,
   "metadata": {},
   "outputs": [],
   "source": [
    "def m2(df):\n",
    "\n",
    "    files_df = get_files_df(df)\n",
    "    \n",
    "    density_comment_files = len(files_df[(files_df['comment_lines_density'].astype(float) > 10) &\n",
    "                                         (files_df['comment_lines_density'].astype(float) < 30)]) / len(files_df)\n",
    "    \n",
    "    return density_comment_files"
   ]
  },
  {
   "cell_type": "markdown",
   "metadata": {},
   "source": [
    "##### DUPLICATIONS"
   ]
  },
  {
   "cell_type": "code",
   "execution_count": 295,
   "metadata": {},
   "outputs": [],
   "source": [
    "def m3(df):\n",
    "\n",
    "    files_df = get_files_df(df)\n",
    "    \n",
    "    duplication = len(files_df[(files_df['duplicated_lines_density'].astype(float) < 5)])/len(files_df)\n",
    "    \n",
    "    return duplication"
   ]
  },
  {
   "cell_type": "markdown",
   "metadata": {
    "collapsed": false
   },
   "source": [
    "# Quality Aspect - Reliability\n",
    "## Factor - Testing Status"
   ]
  },
  {
   "cell_type": "markdown",
   "metadata": {
    "collapsed": false
   },
   "source": [
    "##### Passed tests"
   ]
  },
  {
   "cell_type": "code",
   "execution_count": 296,
   "metadata": {
    "collapsed": false,
    "pycharm": {
     "name": "#%%\n"
    }
   },
   "outputs": [],
   "source": [
    "def m4(df):\n",
    "\n",
    "    dir_df = get_dir_df(df)\n",
    "\n",
    "    passed_tests = (float(dir_df['tests']) - (float(dir_df['test_errors']) + float(dir_df['test_failures']))) /\\\n",
    "                   float(dir_df['tests'])\n",
    "\n",
    "    return passed_tests"
   ]
  },
  {
   "cell_type": "markdown",
   "metadata": {
    "collapsed": false
   },
   "source": [
    "##### Fast test builds"
   ]
  },
  {
   "cell_type": "code",
   "execution_count": 297,
   "metadata": {
    "collapsed": false,
    "pycharm": {
     "name": "#%%\n"
    }
   },
   "outputs": [],
   "source": [
    "def m5(df):\n",
    "\n",
    "    dir_df = get_uts_df(df)\n",
    "    \n",
    "    density_fast_test_builds = len(dir_df[(dir_df['test_execution_time'].astype(float)) < 300000]) /\\\n",
    "                               len(dir_df['test_execution_time'].astype(float))\n",
    "    return density_fast_test_builds"
   ]
  },
  {
   "cell_type": "markdown",
   "metadata": {
    "collapsed": false
   },
   "source": [
    "##### Test coverage"
   ]
  },
  {
   "cell_type": "code",
   "execution_count": 298,
   "metadata": {
    "collapsed": false,
    "pycharm": {
     "name": "#%%\n"
    }
   },
   "outputs": [],
   "source": [
    "def m6(df):\n",
    "\n",
    "    files_df = get_files_df(df)\n",
    "\n",
    "    density_test_coverage = len(files_df[(files_df['coverage'].astype(float) > 60)]) / len(files_df)\n",
    "\n",
    "    return density_test_coverage"
   ]
  },
  {
   "cell_type": "markdown",
   "metadata": {},
   "source": [
    "### Calculate m1, m2, m3, m4, m5 and m6 for each repository"
   ]
  },
  {
   "cell_type": "code",
   "execution_count": 299,
   "metadata": {},
   "outputs": [],
   "source": [
    "def create_metrics_df(df):\n",
    "    \n",
    "    version_vec = df['version'].unique()\n",
    "    \n",
    "    m1_list = []\n",
    "    m2_list = []\n",
    "    m3_list = []\n",
    "    m4_list = []\n",
    "    m5_list = []\n",
    "    m6_list = []\n",
    "\n",
    "    ncloc_list = []\n",
    "    repository_list = []\n",
    "    version_list = []\n",
    "    \n",
    "    for version in version_vec:\n",
    "\n",
    "        version_df = df[df['version'] == version]\n",
    "\n",
    "        m1_list.append(m1(version_df))\n",
    "        m2_list.append(m2(version_df))\n",
    "        m3_list.append(m3(version_df))\n",
    "        m4_list.append(m4(version_df))\n",
    "        m5_list.append(m5(version_df))\n",
    "        m6_list.append(m6(version_df))\n",
    "\n",
    "        ncloc_list.append(_ncloc(version_df))\n",
    "        repository_list.append(version_df['repository'].iloc[0])\n",
    "        version_list.append(version)\n",
    "        \n",
    "    metrics_df = pd.DataFrame({'m1': m1_list,\n",
    "                               'm2': m2_list,\n",
    "                               'm3': m3_list,\n",
    "                               'm4': m4_list,\n",
    "                               'm5': m5_list,\n",
    "                               'm6': m6_list,\n",
    "                               'repository': repository_list, \n",
    "                               'version': version_list,\n",
    "                               'ncloc': ncloc_list})\n",
    "        \n",
    "    return metrics_df"
   ]
  },
  {
   "cell_type": "code",
   "execution_count": 300,
   "metadata": {},
   "outputs": [],
   "source": [
    "repo1 = create_metrics_df(repo1_df)\n",
    "repo2 = create_metrics_df(repo2_df)"
   ]
  },
  {
   "cell_type": "markdown",
   "metadata": {},
   "source": [
    "### Data visualization\n",
    "\n",
    "- You must do this for each of your repositories"
   ]
  },
  {
   "cell_type": "code",
   "execution_count": 301,
   "metadata": {},
   "outputs": [
    {
     "data": {
      "text/plain": [
       "[<matplotlib.lines.Line2D at 0x168a1869040>]"
      ]
     },
     "execution_count": 301,
     "metadata": {},
     "output_type": "execute_result"
    },
    {
     "data": {
      "image/png": "[encoded data removed]",
      "text/plain": [
       "<Figure size 432x288 with 1 Axes>"
      ]
     },
     "metadata": {
      "needs_background": "light"
     },
     "output_type": "display_data"
    }
   ],
   "source": [
    "plt.plot(repo1['m1'], linewidth=3, marker='o', markersize=10)\n",
    "plt.plot(repo1['m2'], linewidth=3, marker='o', markersize=10)\n",
    "plt.plot(repo1['m3'], linewidth=3, marker='o', markersize=10)\n",
    "plt.plot(repo1['m4'], linewidth=3, marker='o', markersize=10)\n",
    "plt.plot(repo1['m5'], linewidth=3, marker='o', markersize=10)\n",
    "plt.plot(repo1['m6'], linewidth=3, marker='o', markersize=10)"
   ]
  },
  {
   "cell_type": "code",
   "execution_count": 302,
   "metadata": {
    "collapsed": false,
    "pycharm": {
     "name": "#%%\n"
    }
   },
   "outputs": [
    {
     "data": {
      "text/plain": [
       "[<matplotlib.lines.Line2D at 0x168a18bf100>]"
      ]
     },
     "execution_count": 302,
     "metadata": {},
     "output_type": "execute_result"
    },
    {
     "data": {
      "image/png": "[encoded data removed]",
      "text/plain": [
       "<Figure size 432x288 with 1 Axes>"
      ]
     },
     "metadata": {
      "needs_background": "light"
     },
     "output_type": "display_data"
    }
   ],
   "source": [
    "\n",
    "plt.plot(repo2['m1'], linewidth=3, marker='o', markersize=10)\n",
    "plt.plot(repo2['m2'], linewidth=3, marker='o', markersize=10)\n",
    "plt.plot(repo2['m3'], linewidth=3, marker='o', markersize=10)\n",
    "plt.plot(repo2['m4'], linewidth=3, marker='o', markersize=10)\n",
    "plt.plot(repo2['m5'], linewidth=3, marker='o', markersize=10)\n",
    "plt.plot(repo2['m6'], linewidth=3, marker='o', markersize=10)"
   ]
  },
  {
   "cell_type": "markdown",
   "metadata": {},
   "source": [
    "### Quality factor and aspect aggregation\n",
    "\n",
    "- You must do this for each of your repositories"
   ]
  },
  {
   "cell_type": "code",
   "execution_count": 303,
   "metadata": {},
   "outputs": [
    {
     "data": {
      "text/plain": [
       "Ellipsis"
      ]
     },
     "execution_count": 303,
     "metadata": {},
     "output_type": "execute_result"
    }
   ],
   "source": [
    "psc1 = 1\n",
    "psc2 = 1\n",
    "pc1 = 0.5\n",
    "pc2 = 0.5\n",
    "pm1 = 0.33\n",
    "pm2 = 0.33\n",
    "pm3 = 0.33\n",
    "pm4 = 0.25\n",
    "pm5 = 0.25\n",
    "pm6 = 0.5\n",
    "\n",
    "repo1['code_quality'] = ((repo1['m1']*pm1) + (repo1['m2']*pm2) + (repo1['m3']*pm3)) * psc1\n",
    "repo2['code_quality'] = ((repo2['m1']*pm1) + (repo2['m2']*pm2) + (repo2['m3']*pm3)) * psc1\n",
    "...\n",
    "\n",
    "repo1['testing_status'] = ((repo1['m4']*pm4) + (repo1['m5']*pm5) + (repo1['m6']*pm6)) * psc2\n",
    "repo2['testing_status'] = ((repo2['m4']*pm4) + (repo2['m5']*pm5) + (repo2['m6']*pm6)) * psc2\n",
    "..."
   ]
  },
  {
   "cell_type": "code",
   "execution_count": 304,
   "metadata": {},
   "outputs": [
    {
     "data": {
      "text/plain": [
       "Ellipsis"
      ]
     },
     "execution_count": 304,
     "metadata": {},
     "output_type": "execute_result"
    },
    {
     "data": {
      "image/png": "[encoded data removed]",
      "text/plain": [
       "<Figure size 432x288 with 1 Axes>"
      ]
     },
     "metadata": {
      "needs_background": "light"
     },
     "output_type": "display_data"
    }
   ],
   "source": [
    "plt.plot(repo1['code_quality'], linewidth=3, marker='o', markersize=5)\n",
    "plt.plot(repo2['code_quality'], linewidth=3, marker='o', markersize=5)\n",
    "..."
   ]
  },
  {
   "cell_type": "code",
   "execution_count": 305,
   "metadata": {
    "collapsed": false,
    "pycharm": {
     "name": "#%%\n"
    }
   },
   "outputs": [
    {
     "data": {
      "text/plain": [
       "Ellipsis"
      ]
     },
     "execution_count": 305,
     "metadata": {},
     "output_type": "execute_result"
    },
    {
     "data": {
      "image/png": "[encoded data removed]",
      "text/plain": [
       "<Figure size 432x288 with 1 Axes>"
      ]
     },
     "metadata": {
      "needs_background": "light"
     },
     "output_type": "display_data"
    }
   ],
   "source": [
    "\n",
    "plt.plot(repo1['testing_status'], linewidth=3, marker='o', markersize=5)\n",
    "plt.plot(repo2['testing_status'], linewidth=3, marker='o', markersize=5)\n",
    "...\n"
   ]
  },
  {
   "cell_type": "code",
   "execution_count": 306,
   "metadata": {},
   "outputs": [
    {
     "data": {
      "text/plain": [
       "Ellipsis"
      ]
     },
     "execution_count": 306,
     "metadata": {},
     "output_type": "execute_result"
    }
   ],
   "source": [
    "repo1['Maintainability'] = repo1['code_quality'] * pc1\n",
    "repo1['Reliability'] = repo1['testing_status'] * pc2\n",
    "repo1['total'] = repo1['Maintainability'] + repo1['Reliability']\n",
    "\n",
    "repo2['Maintainability'] = repo2['code_quality'] * pc1\n",
    "repo2['Reliability'] = repo2['testing_status'] * pc2\n",
    "repo2['total'] = repo2['Maintainability'] + repo2['Reliability']\n",
    "..."
   ]
  },
  {
   "cell_type": "code",
   "execution_count": 307,
   "metadata": {},
   "outputs": [
    {
     "data": {
      "text/html": [
       "<div>\n",
       "<style scoped>\n",
       "    .dataframe tbody tr th:only-of-type {\n",
       "        vertical-align: middle;\n",
       "    }\n",
       "\n",
       "    .dataframe tbody tr th {\n",
       "        vertical-align: top;\n",
       "    }\n",
       "\n",
       "    .dataframe thead th {\n",
       "        text-align: right;\n",
       "    }\n",
       "</style>\n",
       "<table border=\"1\" class=\"dataframe\">\n",
       "  <thead>\n",
       "    <tr style=\"text-align: right;\">\n",
       "      <th></th>\n",
       "      <th>m1</th>\n",
       "      <th>m2</th>\n",
       "      <th>m3</th>\n",
       "      <th>m4</th>\n",
       "      <th>m5</th>\n",
       "      <th>m6</th>\n",
       "      <th>repository</th>\n",
       "      <th>version</th>\n",
       "      <th>ncloc</th>\n",
       "      <th>code_quality</th>\n",
       "      <th>testing_status</th>\n",
       "      <th>Maintainability</th>\n",
       "      <th>Reliability</th>\n",
       "      <th>total</th>\n",
       "    </tr>\n",
       "  </thead>\n",
       "  <tbody>\n",
       "    <tr>\n",
       "      <th>0</th>\n",
       "      <td>0.846154</td>\n",
       "      <td>0.076923</td>\n",
       "      <td>1.0</td>\n",
       "      <td>1.0</td>\n",
       "      <td>1.0</td>\n",
       "      <td>0.461538</td>\n",
       "      <td>fga-eps-mds-2022-2-MeasureSoftGram-CLI</td>\n",
       "      <td>develop</td>\n",
       "      <td>7621</td>\n",
       "      <td>0.634615</td>\n",
       "      <td>0.730769</td>\n",
       "      <td>0.317308</td>\n",
       "      <td>0.365385</td>\n",
       "      <td>0.682692</td>\n",
       "    </tr>\n",
       "  </tbody>\n",
       "</table>\n",
       "</div>"
      ],
      "text/plain": [
       "         m1        m2   m3   m4   m5        m6  \\\n",
       "0  0.846154  0.076923  1.0  1.0  1.0  0.461538   \n",
       "\n",
       "                               repository  version  ncloc  code_quality  \\\n",
       "0  fga-eps-mds-2022-2-MeasureSoftGram-CLI  develop   7621      0.634615   \n",
       "\n",
       "   testing_status  Maintainability  Reliability     total  \n",
       "0        0.730769         0.317308     0.365385  0.682692  "
      ]
     },
     "execution_count": 307,
     "metadata": {},
     "output_type": "execute_result"
    }
   ],
   "source": [
    "repo1"
   ]
  },
  {
   "cell_type": "code",
   "execution_count": 308,
   "metadata": {
    "pycharm": {
     "name": "#%%\n"
    }
   },
   "outputs": [
    {
     "data": {
      "text/plain": [
       "(0.1, 1.1)"
      ]
     },
     "execution_count": 308,
     "metadata": {},
     "output_type": "execute_result"
    },
    {
     "data": {
      "image/png": "[encoded data removed]",
      "text/plain": [
       "<Figure size 432x288 with 1 Axes>"
      ]
     },
     "metadata": {
      "needs_background": "light"
     },
     "output_type": "display_data"
    }
   ],
   "source": [
    "plt.plot(repo1['Maintainability'], linewidth=3, marker='o', markersize=5)\n",
    "plt.plot(repo1['Reliability'], linewidth=3, marker='*', markersize=5)\n",
    "plt.plot(repo1['total'], linewidth=3, marker='X', markersize=5)\n",
    "\n",
    "plt.ylim(0.1,1.1)"
   ]
  },
  {
   "cell_type": "code",
   "execution_count": 309,
   "metadata": {
    "collapsed": false,
    "pycharm": {
     "name": "#%%\n"
    }
   },
   "outputs": [
    {
     "data": {
      "text/html": [
       "<div>\n",
       "<style scoped>\n",
       "    .dataframe tbody tr th:only-of-type {\n",
       "        vertical-align: middle;\n",
       "    }\n",
       "\n",
       "    .dataframe tbody tr th {\n",
       "        vertical-align: top;\n",
       "    }\n",
       "\n",
       "    .dataframe thead th {\n",
       "        text-align: right;\n",
       "    }\n",
       "</style>\n",
       "<table border=\"1\" class=\"dataframe\">\n",
       "  <thead>\n",
       "    <tr style=\"text-align: right;\">\n",
       "      <th></th>\n",
       "      <th>m1</th>\n",
       "      <th>m2</th>\n",
       "      <th>m3</th>\n",
       "      <th>m4</th>\n",
       "      <th>m5</th>\n",
       "      <th>m6</th>\n",
       "      <th>repository</th>\n",
       "      <th>version</th>\n",
       "      <th>ncloc</th>\n",
       "      <th>code_quality</th>\n",
       "      <th>testing_status</th>\n",
       "      <th>Maintainability</th>\n",
       "      <th>Reliability</th>\n",
       "      <th>total</th>\n",
       "    </tr>\n",
       "  </thead>\n",
       "  <tbody>\n",
       "  </tbody>\n",
       "</table>\n",
       "</div>"
      ],
      "text/plain": [
       "Empty DataFrame\n",
       "Columns: [m1, m2, m3, m4, m5, m6, repository, version, ncloc, code_quality, testing_status, Maintainability, Reliability, total]\n",
       "Index: []"
      ]
     },
     "execution_count": 309,
     "metadata": {},
     "output_type": "execute_result"
    }
   ],
   "source": [
    "repo2"
   ]
  },
  {
   "cell_type": "code",
   "execution_count": 310,
   "metadata": {
    "collapsed": false,
    "pycharm": {
     "name": "#%%\n"
    }
   },
   "outputs": [
    {
     "data": {
      "text/plain": [
       "Ellipsis"
      ]
     },
     "execution_count": 310,
     "metadata": {},
     "output_type": "execute_result"
    },
    {
     "data": {
      "image/png": "[encoded data removed]",
      "text/plain": [
       "<Figure size 432x288 with 1 Axes>"
      ]
     },
     "metadata": {
      "needs_background": "light"
     },
     "output_type": "display_data"
    }
   ],
   "source": [
    "plt.plot(repo2['Maintainability'], linewidth=3, marker='o', markersize=5)\n",
    "plt.plot(repo2['Reliability'], linewidth=3, marker='*', markersize=5)\n",
    "plt.plot(repo2['total'], linewidth=3, marker='X', markersize=5)\n",
    "\n",
    "plt.ylim(0.1,1.1)\n",
    "..."
   ]
  },
  {
   "cell_type": "markdown",
   "metadata": {
    "collapsed": false
   },
   "source": [
    "### You must do the total plot and the statics analysis for the repository with more versions."
   ]
  },
  {
   "cell_type": "code",
   "execution_count": 311,
   "metadata": {
    "collapsed": false,
    "pycharm": {
     "name": "#%%\n"
    }
   },
   "outputs": [
    {
     "name": "stdout",
     "output_type": "stream",
     "text": [
      "['fga-eps-mds-2022-2-MeasureSoftGram-CLI']\n"
     ]
    }
   ],
   "source": [
    "# Building descriptive statistics dataframe. You must replace YourRepoName for your repository name with more product versions.\n",
    "\n",
    "metrics_df = pd.concat([repo1, repo2], ignore_index=True)\n",
    "\n",
    "print(metrics_df['repository'].unique())\n",
    "\n",
    "more_versions_repo = metrics_df[metrics_df['repository'] == 'fga-eps-mds-2022-2-MeasureSoftGram-CLI']\n",
    "\n",
    "def get_characteristc_stats(repo_series):\n",
    "    return {\n",
    "        'mean': repo_series.mean(),\n",
    "        'mode': repo_series.mode(),\n",
    "        'median': repo_series.median(),\n",
    "        'std': repo_series.std(),\n",
    "        'var': repo_series.var(),\n",
    "        'min': repo_series.min(),\n",
    "        'max': repo_series.max()\n",
    "    }\n",
    "\n",
    "maintainability_stats = pd.DataFrame(get_characteristc_stats(more_versions_repo[\"Maintainability\"]),\n",
    "                                     columns=['mean', 'mode', 'median', 'std', 'var', 'min', 'max'])\n",
    "\n",
    "reliability_stats = pd.DataFrame(get_characteristc_stats(more_versions_repo[\"Reliability\"]),\n",
    "                                 columns=['mean', 'mode', 'median', 'std', 'var', 'min', 'max'])"
   ]
  },
  {
   "cell_type": "code",
   "execution_count": 312,
   "metadata": {
    "collapsed": false,
    "pycharm": {
     "name": "#%%\n"
    }
   },
   "outputs": [
    {
     "name": "stdout",
     "output_type": "stream",
     "text": [
      "       mean      mode    median  std  var       min       max\n",
      "0  0.317308  0.317308  0.317308  NaN  NaN  0.317308  0.317308\n"
     ]
    }
   ],
   "source": [
    "print(maintainability_stats)"
   ]
  },
  {
   "cell_type": "code",
   "execution_count": 313,
   "metadata": {
    "collapsed": false,
    "pycharm": {
     "name": "#%%\n"
    }
   },
   "outputs": [
    {
     "name": "stdout",
     "output_type": "stream",
     "text": [
      "       mean      mode    median  std  var       min       max\n",
      "0  0.365385  0.365385  0.365385  NaN  NaN  0.365385  0.365385\n"
     ]
    }
   ],
   "source": [
    "print(reliability_stats)"
   ]
  },
  {
   "cell_type": "markdown",
   "metadata": {
    "collapsed": false
   },
   "source": [
    "### Plotting the aggregated quality characteristic indicator"
   ]
  },
  {
   "cell_type": "code",
   "execution_count": 314,
   "metadata": {
    "collapsed": false,
    "pycharm": {
     "name": "#%%\n"
    }
   },
   "outputs": [
    {
     "data": {
      "text/plain": [
       "{'whiskers': [<matplotlib.lines.Line2D at 0x168a1a9efa0>,\n",
       "  <matplotlib.lines.Line2D at 0x168a1aaf2b0>,\n",
       "  <matplotlib.lines.Line2D at 0x168a1abc3d0>,\n",
       "  <matplotlib.lines.Line2D at 0x168a1abc6a0>],\n",
       " 'caps': [<matplotlib.lines.Line2D at 0x168a1aaf580>,\n",
       "  <matplotlib.lines.Line2D at 0x168a1aaf850>,\n",
       "  <matplotlib.lines.Line2D at 0x168a1abc970>,\n",
       "  <matplotlib.lines.Line2D at 0x168a1abcc40>],\n",
       " 'boxes': [<matplotlib.lines.Line2D at 0x168a1a9ecd0>,\n",
       "  <matplotlib.lines.Line2D at 0x168a1abc100>],\n",
       " 'medians': [<matplotlib.lines.Line2D at 0x168a1aafb20>,\n",
       "  <matplotlib.lines.Line2D at 0x168a1abcf10>],\n",
       " 'fliers': [<matplotlib.lines.Line2D at 0x168a1aafdf0>,\n",
       "  <matplotlib.lines.Line2D at 0x168a1ac8220>],\n",
       " 'means': []}"
      ]
     },
     "execution_count": 314,
     "metadata": {},
     "output_type": "execute_result"
    },
    {
     "data": {
      "image/png": "[encoded data removed]",
      "text/plain": [
       "<Figure size 1440x720 with 1 Axes>"
      ]
     },
     "metadata": {
      "needs_background": "light"
     },
     "output_type": "display_data"
    }
   ],
   "source": [
    "plt.figure(figsize=(20, 10))\n",
    "\n",
    "# boxplot\n",
    "plt.boxplot([more_versions_repo['Maintainability'], more_versions_repo['Reliability']],\n",
    "labels=['Maintainability', 'Reliability'])"
   ]
  },
  {
   "cell_type": "markdown",
   "metadata": {
    "collapsed": false
   },
   "source": [
    "### Plotting the aggregated repository quality indicator"
   ]
  },
  {
   "cell_type": "code",
   "execution_count": 315,
   "metadata": {
    "pycharm": {
     "name": "#%%\n"
    }
   },
   "outputs": [
    {
     "data": {
      "text/plain": [
       "(0.1, 1.0)"
      ]
     },
     "execution_count": 315,
     "metadata": {},
     "output_type": "execute_result"
    },
    {
     "data": {
      "image/png": "[encoded data removed]",
      "text/plain": [
       "<Figure size 432x288 with 1 Axes>"
      ]
     },
     "metadata": {
      "needs_background": "light"
     },
     "output_type": "display_data"
    }
   ],
   "source": [
    "plt.plot(more_versions_repo['total'], linewidth=3, marker='o', markersize=5)\n",
    "\n",
    "plt.ylim(.1,1)"
   ]
  },
  {
   "cell_type": "code",
   "execution_count": 316,
   "metadata": {},
   "outputs": [],
   "source": [
    "# DATE FORMAT: MM-DD-YYYY-HH:MM:SS\n",
    "currentDateTime = datetime.datetime.now().strftime(\"%m-%d-%Y-%H-%M-%S\")\n",
    "\n",
    "metrics_df.to_excel('data/fga-eps-mds-2021-1-MeasureSoftGram-{}.xlsx'.format(currentDateTime), index = False)\n",
    "\n",
    "metrics_df.to_csv('data/fga-eps-mds-2021-1-MeasureSoftGram-{}.csv'.format(currentDateTime), index = False)"
   ]
  }
 ],
 "metadata": {
  "kernelspec": {
   "display_name": "Python 3.9.5 ('base')",
   "language": "python",
   "name": "python3"
  },
  "language_info": {
   "codemirror_mode": {
    "name": "ipython",
    "version": 3
   },
   "file_extension": ".py",
   "mimetype": "text/x-python",
   "name": "python",
   "nbconvert_exporter": "python",
   "pygments_lexer": "ipython3",
   "version": "3.9.5"
  },
  "vscode": {
   "interpreter": {
    "hash": "af8259ad5c1c9c7a69bd6ea085234cf8fd3a6a37a71ca551828b314c4d89b0ad"
   }
  }
 },
 "nbformat": 4,
 "nbformat_minor": 4
}
